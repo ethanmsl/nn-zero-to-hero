{
 "cells": [
  {
   "cell_type": "markdown",
   "id": "6f4be5dd-10e2-45e9-8e03-ed2908387b33",
   "metadata": {},
   "source": [
    "# Numpy Tutorial\n",
    "(from freeCodeCamp.org; [link to youtube](https://www.youtube.com/watch?v=QUT1VHiLmmI))"
   ]
  },
  {
   "cell_type": "code",
   "execution_count": 3,
   "id": "f5500509-fa7f-4152-9aa6-73362254bec0",
   "metadata": {
    "tags": []
   },
   "outputs": [],
   "source": [
    "import numpy as npprint( y[:] )"
   ]
  },
  {
   "cell_type": "markdown",
   "id": "8d9ffc2d-6c32-4ad8-a371-3be48e3da106",
   "metadata": {},
   "source": [
    "initialize an array:"
   ]
  },
  {
   "cell_type": "code",
   "execution_count": 5,
   "id": "111d5599-3551-42f4-b4ac-39d8feaa6e93",
   "metadata": {
    "tags": []
   },
   "outputs": [
    {
     "name": "stdout",
     "output_type": "stream",
     "text": [
      "[1 2 3]\n"
     ]
    }
   ],
   "source": [
    "a = np.array([1,2,3])\n",
    "print(a)"
   ]
  },
  {
   "cell_type": "code",
   "execution_count": 13,
   "id": "df739871-d7c9-4637-86e0-f67b6347afc8",
   "metadata": {
    "tags": []
   },
   "outputs": [
    {
     "name": "stdout",
     "output_type": "stream",
     "text": [
      "[[9. 8. 7.]\n",
      " [6. 5. 4.]]\n",
      "[[9. 8. 7.]\n",
      " [6. 5. 4.]]\n"
     ]
    }
   ],
   "source": [
    "b = np.array([[9.0,8.0,7.0], [6.0, 5.0, 4.0]])\n",
    "print(b)\n",
    "\n",
    "# has a casting hierarchy it uses apparently\n",
    "# auto-converting the ints ~~> floats\n",
    "b_2 = np.array([[9,8,7], [6, 5, 4.0]])\n",
    "print(b_2)"
   ]
  },
  {
   "cell_type": "code",
   "execution_count": 12,
   "id": "d72c9922-9027-4113-817e-9fa98d13cff0",
   "metadata": {
    "collapsed": true,
    "jupyter": {
     "outputs_hidden": true
    },
    "tags": []
   },
   "outputs": [
    {
     "ename": "ValueError",
     "evalue": "setting an array element with a sequence. The requested array has an inhomogeneous shape after 1 dimensions. The detected shape was (2,) + inhomogeneous part.",
     "output_type": "error",
     "traceback": [
      "\u001b[0;31m---------------------------------------------------------------------------\u001b[0m",
      "\u001b[0;31mValueError\u001b[0m                                Traceback (most recent call last)",
      "Cell \u001b[0;32mIn[12], line 2\u001b[0m\n\u001b[1;32m      1\u001b[0m \u001b[38;5;66;03m# length mis-match -- doesn't make a hyper-cube\u001b[39;00m\n\u001b[0;32m----> 2\u001b[0m b_corrupt \u001b[38;5;241m=\u001b[39m \u001b[43mnp\u001b[49m\u001b[38;5;241;43m.\u001b[39;49m\u001b[43marray\u001b[49m\u001b[43m(\u001b[49m\u001b[43m[\u001b[49m\u001b[43m[\u001b[49m\u001b[38;5;241;43m9.0\u001b[39;49m\u001b[43m,\u001b[49m\u001b[38;5;241;43m8.0\u001b[39;49m\u001b[43m,\u001b[49m\u001b[38;5;241;43m7.0\u001b[39;49m\u001b[43m]\u001b[49m\u001b[43m,\u001b[49m\u001b[43m \u001b[49m\u001b[43m[\u001b[49m\u001b[38;5;241;43m6.0\u001b[39;49m\u001b[43m,\u001b[49m\u001b[43m \u001b[49m\u001b[38;5;241;43m5.0\u001b[39;49m\u001b[43m]\u001b[49m\u001b[43m]\u001b[49m\u001b[43m)\u001b[49m\n\u001b[1;32m      3\u001b[0m \u001b[38;5;28mprint\u001b[39m(b_corrupt)\n",
      "\u001b[0;31mValueError\u001b[0m: setting an array element with a sequence. The requested array has an inhomogeneous shape after 1 dimensions. The detected shape was (2,) + inhomogeneous part."
     ]
    }
   ],
   "source": [
    "# length mis-match -- doesn't make a hyper-cube\n",
    "b_corrupt = np.array([[9.0,8.0,7.0], [6.0, 5.0]])\n",
    "print(b_corrupt)"
   ]
  },
  {
   "cell_type": "code",
   "execution_count": 19,
   "id": "3fed3546-a337-4d2e-9864-a7daa8feb793",
   "metadata": {
    "tags": []
   },
   "outputs": [
    {
     "name": "stdout",
     "output_type": "stream",
     "text": [
      "(3,)\n",
      "(2, 3)\n",
      "(2, 3)\n",
      "\n",
      "1\n",
      "2\n",
      "2\n",
      "\n",
      "int64\n",
      "float64\n",
      "float64\n"
     ]
    }
   ],
   "source": [
    "print(a.shape)\n",
    "print(b.shape)\n",
    "print(b_2.shape)\n",
    "print()\n",
    "print(a.ndim)\n",
    "print(b.ndim)\n",
    "print(b_2.ndim)\n",
    "print()\n",
    "print(a.dtype)\n",
    "print(b.dtype)\n",
    "print(b_2.dtype)"
   ]
  },
  {
   "cell_type": "code",
   "execution_count": 25,
   "id": "bf321572-ff16-4738-a8f0-fa1c02043852",
   "metadata": {
    "tags": []
   },
   "outputs": [
    {
     "name": "stdout",
     "output_type": "stream",
     "text": [
      "[1 2 3 4 5 6]\n",
      "int16\n",
      "2\n",
      "6\n"
     ]
    }
   ],
   "source": [
    "a = np.array([1,2,3,4,5,6], dtype='int16')\n",
    "print(a)\n",
    "print(a.dtype)\n",
    "print(a.itemsize)\n",
    "print(a.size)"
   ]
  },
  {
   "cell_type": "markdown",
   "id": "fd47bafc-ab49-424d-94bf-524cff8b66ad",
   "metadata": {},
   "source": [
    "# --------------"
   ]
  },
  {
   "cell_type": "code",
   "execution_count": 60,
   "id": "f04c9ecf-502f-4bdd-b1a3-d9d26bacfaa5",
   "metadata": {
    "tags": []
   },
   "outputs": [
    {
     "name": "stdout",
     "output_type": "stream",
     "text": [
      "[[ 1  2  3  4  5  6  7]\n",
      " [ 8  9 10 11 12 13 14]]\n",
      "4\n"
     ]
    }
   ],
   "source": [
    "a = np.array([[1,2,3,4,5,6,7],[8,9,10,11,12,13,14]])\n",
    "print(a)\n",
    "print(a[0,3])"
   ]
  },
  {
   "cell_type": "code",
   "execution_count": 61,
   "id": "6556d349-0a8c-49d3-b043-8d81e9f7e6d5",
   "metadata": {
    "tags": []
   },
   "outputs": [
    {
     "data": {
      "text/plain": [
       "array([1, 2, 3, 4, 5, 6, 7])"
      ]
     },
     "execution_count": 61,
     "metadata": {},
     "output_type": "execute_result"
    }
   ],
   "source": [
    "# row 0\n",
    "a[0,:]"
   ]
  },
  {
   "cell_type": "code",
   "execution_count": 62,
   "id": "6792f8c0-e5c8-4fab-a308-e21dde3308eb",
   "metadata": {
    "tags": []
   },
   "outputs": [
    {
     "data": {
      "text/plain": [
       "array([1, 8])"
      ]
     },
     "execution_count": 62,
     "metadata": {},
     "output_type": "execute_result"
    }
   ],
   "source": [
    "# col 0\n",
    "a[:,0]"
   ]
  },
  {
   "cell_type": "code",
   "execution_count": 63,
   "id": "f217b190-1f53-4f9b-aaba-40dbe0119981",
   "metadata": {
    "tags": []
   },
   "outputs": [
    {
     "data": {
      "text/plain": [
       "array([2, 3, 4, 5])"
      ]
     },
     "execution_count": 63,
     "metadata": {},
     "output_type": "execute_result"
    }
   ],
   "source": [
    "# get row 0 2nd through 5th element\n",
    "a[0,1:5]"
   ]
  },
  {
   "cell_type": "code",
   "execution_count": 64,
   "id": "327a0fbf-7659-4a86-ac44-899c302f153d",
   "metadata": {
    "tags": []
   },
   "outputs": [
    {
     "data": {
      "text/plain": [
       "array([[   1,    2,    3,    4,    5,    6,    7],\n",
       "       [2000,    9,   10,   11,   12,   13,   14]])"
      ]
     },
     "execution_count": 64,
     "metadata": {},
     "output_type": "execute_result"
    }
   ],
   "source": [
    "# change individual values\n",
    "a[1,0] = 2000\n",
    "a"
   ]
  },
  {
   "cell_type": "code",
   "execution_count": 65,
   "id": "8b63c6a1-bf26-4d2e-bc7e-5928283c32dc",
   "metadata": {
    "tags": []
   },
   "outputs": [
    {
     "name": "stdout",
     "output_type": "stream",
     "text": [
      "[[   1    2    3   12   12   12   12]\n",
      " [2000    9   10   12   12   12   12]]\n"
     ]
    }
   ],
   "source": [
    "# change multiple values\n",
    "a[:, 3:8]=12\n",
    "print(a)"
   ]
  },
  {
   "cell_type": "code",
   "execution_count": 66,
   "id": "1d3f3cac-a32e-42d2-954d-3242b3c238ef",
   "metadata": {
    "tags": []
   },
   "outputs": [
    {
     "name": "stdout",
     "output_type": "stream",
     "text": [
      "[[   1    2    0    0    0    0   12]\n",
      " [2000    9    0    0    0    0   12]]\n"
     ]
    }
   ],
   "source": [
    "# ¿¡ this I don't understand !?\n",
    "a[:, 2:-1]=0\n",
    "print(a)"
   ]
  },
  {
   "cell_type": "code",
   "execution_count": 72,
   "id": "9e284a69-8d47-4900-8819-1bd0b7790287",
   "metadata": {
    "tags": []
   },
   "outputs": [
    {
     "name": "stdout",
     "output_type": "stream",
     "text": [
      "[[[1 2]\n",
      "  [3 4]]\n",
      "\n",
      " [[5 6]\n",
      "  [7 8]]]\n",
      "\n",
      "[2 6]\n",
      "[2 4]\n",
      "[3 4]\n"
     ]
    }
   ],
   "source": [
    "# 3D example\n",
    "d = np.array([[[1,2],[3,4]],[[5,6],[7,8]]])\n",
    "print(d)\n",
    "print()\n",
    "\n",
    "# order of referents matches order brackets from leftmost to right most and outer to inner\n",
    "print(d[:,0,1])\n",
    "print(d[0,:,1])\n",
    "print(d[0,1,:])"
   ]
  },
  {
   "cell_type": "code",
   "execution_count": 73,
   "id": "4665eff1-5df8-4b71-a5be-a09c26c7501d",
   "metadata": {
    "tags": []
   },
   "outputs": [
    {
     "data": {
      "text/plain": [
       "5"
      ]
     },
     "execution_count": 73,
     "metadata": {},
     "output_type": "execute_result"
    }
   ],
   "source": [
    "# testing above let,s get '5'\n",
    "d[1,0,0]"
   ]
  },
  {
   "cell_type": "markdown",
   "id": "8b3cf0d4-c7c4-429a-9caf-21ebb0a07b15",
   "metadata": {},
   "source": [
    "# Initializing different types of arrays"
   ]
  },
  {
   "cell_type": "code",
   "execution_count": 75,
   "id": "0c24e2f1-669b-479b-85d6-49e311732edf",
   "metadata": {
    "tags": []
   },
   "outputs": [
    {
     "data": {
      "text/plain": [
       "array([[0., 0., 0.],\n",
       "       [0., 0., 0.]])"
      ]
     },
     "execution_count": 75,
     "metadata": {},
     "output_type": "execute_result"
    }
   ],
   "source": [
    "# zeroes matrix\n",
    "np.zeros((2,3))"
   ]
  },
  {
   "cell_type": "code",
   "execution_count": 81,
   "id": "a33a965e-ce5e-48ef-970b-00513a7b2f92",
   "metadata": {
    "tags": []
   },
   "outputs": [
    {
     "data": {
      "text/plain": [
       "array([[[0.]]])"
      ]
     },
     "execution_count": 81,
     "metadata": {},
     "output_type": "execute_result"
    }
   ],
   "source": [
    "np.zeros((1,1,1))"
   ]
  },
  {
   "cell_type": "code",
   "execution_count": 83,
   "id": "973ebffa-c396-48c4-b27f-06e38138af23",
   "metadata": {
    "tags": []
   },
   "outputs": [
    {
     "data": {
      "text/plain": [
       "array([], shape=(0, 0, 0, 0, 3), dtype=float64)"
      ]
     },
     "execution_count": 83,
     "metadata": {},
     "output_type": "execute_result"
    }
   ],
   "source": [
    "np.zeros((0,0,0,0,3))"
   ]
  },
  {
   "cell_type": "code",
   "execution_count": 88,
   "id": "62c2bcf5-10d0-4b60-849c-6067f3c40335",
   "metadata": {
    "tags": []
   },
   "outputs": [
    {
     "data": {
      "text/plain": [
       "array([[[1, 1, 1, 1],\n",
       "        [1, 1, 1, 1],\n",
       "        [1, 1, 1, 1]],\n",
       "\n",
       "       [[1, 1, 1, 1],\n",
       "        [1, 1, 1, 1],\n",
       "        [1, 1, 1, 1]]], dtype=int32)"
      ]
     },
     "execution_count": 88,
     "metadata": {},
     "output_type": "execute_result"
    }
   ],
   "source": [
    "# ones matrix\n",
    "np.ones((2,3,4), dtype='int32')"
   ]
  },
  {
   "cell_type": "code",
   "execution_count": 91,
   "id": "3f68cc6a-0c0d-4afb-8850-0e7e5ace5ebc",
   "metadata": {
    "tags": []
   },
   "outputs": [
    {
     "data": {
      "text/plain": [
       "array([[[[[66., 66., 66.],\n",
       "          [66., 66., 66.]]]]])"
      ]
     },
     "execution_count": 91,
     "metadata": {},
     "output_type": "execute_result"
    }
   ],
   "source": [
    "# specified-num matrix\n",
    "np.full((1,1,1,2,3),66, dtype='float64')"
   ]
  },
  {
   "cell_type": "code",
   "execution_count": 95,
   "id": "ec88a6b5-7de2-4a4c-b6bb-fe4d7c7f4969",
   "metadata": {
    "tags": []
   },
   "outputs": [
    {
     "name": "stdout",
     "output_type": "stream",
     "text": [
      "(2, 7)\n",
      "[[8 8 8 8 8 8 8]\n",
      " [8 8 8 8 8 8 8]]\n",
      "(2, 7)\n",
      "\n",
      "(2, 7)\n",
      "[[8 8 8 8 8 8 8]\n",
      " [8 8 8 8 8 8 8]]\n",
      "(2, 7)\n"
     ]
    }
   ],
   "source": [
    "# copy shape, init with specified number\n",
    "print(a.shape)\n",
    "a_like = np.full_like(a, 8)\n",
    "print(a_like)\n",
    "print(a_like.shape)\n",
    "print()\n",
    "\n",
    "# Take shape, init with specified number\n",
    "print(a.shape)\n",
    "a_like = np.full(a.shape, 8)\n",
    "print(a_like)\n",
    "print(a_like.shape)"
   ]
  },
  {
   "cell_type": "code",
   "execution_count": 105,
   "id": "bae5489d-65ba-4ba7-b96d-3d92cfbe81bb",
   "metadata": {
    "tags": []
   },
   "outputs": [
    {
     "data": {
      "text/plain": [
       "array([[[0.34954456, 0.12423374, 0.46160577],\n",
       "        [0.12652188, 0.84613502, 0.9393426 ],\n",
       "        [0.2274044 , 0.98971685, 0.4665128 ],\n",
       "        [0.21637389, 0.20759699, 0.27832833]],\n",
       "\n",
       "       [[0.11761272, 0.03655905, 0.91527947],\n",
       "        [0.79067062, 0.9653749 , 0.68567736],\n",
       "        [0.26889991, 0.81513482, 0.45842908],\n",
       "        [0.0651226 , 0.85938647, 0.45899107]]])"
      ]
     },
     "execution_count": 105,
     "metadata": {},
     "output_type": "execute_result"
    }
   ],
   "source": [
    "# random values\n",
    "# ¡ different syntax; takes values rather than tuple !\n",
    "np.random.rand(2,4,3)"
   ]
  },
  {
   "cell_type": "code",
   "execution_count": 106,
   "id": "5acff0f9-492b-4e5c-849f-d8109c3ed05b",
   "metadata": {
    "tags": []
   },
   "outputs": [
    {
     "data": {
      "text/plain": [
       "array([[0.17575445, 0.10569936, 0.57113455],\n",
       "       [0.09416977, 0.33643764, 0.57180023]])"
      ]
     },
     "execution_count": 106,
     "metadata": {},
     "output_type": "execute_result"
    }
   ],
   "source": [
    "# take in a given shape\n",
    "np.random.random_sample(b.shape)"
   ]
  },
  {
   "cell_type": "code",
   "execution_count": 111,
   "id": "d5a50452-5c1d-445f-a1fc-eb9d1d8a19d2",
   "metadata": {
    "tags": []
   },
   "outputs": [
    {
     "data": {
      "text/plain": [
       "array([[[0, 1, 1, 0, 1],\n",
       "        [1, 0, 1, 0, 0],\n",
       "        [1, 0, 1, 1, 1],\n",
       "        [0, 0, 0, 0, 1]],\n",
       "\n",
       "       [[1, 1, 1, 0, 1],\n",
       "        [0, 0, 0, 1, 1],\n",
       "        [1, 1, 1, 1, 0],\n",
       "        [0, 1, 0, 1, 1]],\n",
       "\n",
       "       [[1, 1, 0, 0, 1],\n",
       "        [1, 0, 1, 0, 0],\n",
       "        [1, 1, 0, 0, 0],\n",
       "        [0, 0, 0, 1, 0]]])"
      ]
     },
     "execution_count": 111,
     "metadata": {},
     "output_type": "execute_result"
    }
   ],
   "source": [
    "# specify type\n",
    "# ¡ again, different syntax !\n",
    "# ¡¡ also, now the lower digit is invluded and higher is excluded for value range !!\n",
    "np.random.randint(0,2, size=(3,4,5))"
   ]
  },
  {
   "cell_type": "code",
   "execution_count": 116,
   "id": "336a0db6-b89f-422c-908b-10b058c7689b",
   "metadata": {
    "tags": []
   },
   "outputs": [
    {
     "data": {
      "text/plain": [
       "array([[1, 0, 0, 0, 0],\n",
       "       [0, 1, 0, 0, 0],\n",
       "       [0, 0, 1, 0, 0],\n",
       "       [0, 0, 0, 1, 0],\n",
       "       [0, 0, 0, 0, 1]])"
      ]
     },
     "execution_count": 116,
     "metadata": {},
     "output_type": "execute_result"
    }
   ],
   "source": [
    "# identity matrix (2D)\n",
    "np.identity(5, dtype='int')"
   ]
  },
  {
   "cell_type": "code",
   "execution_count": 123,
   "id": "c1f0d528-d8dc-4f46-9c3e-90799d46db6f",
   "metadata": {
    "tags": []
   },
   "outputs": [
    {
     "name": "stdout",
     "output_type": "stream",
     "text": [
      "[[1 2 3]]\n",
      "\n",
      "[[1 2 3]\n",
      " [1 2 3]\n",
      " [1 2 3]]\n",
      "\n",
      "[[1 1 1 2 2 2 3 3 3]]\n"
     ]
    }
   ],
   "source": [
    "# repeats an array n times, \n",
    "# if the array can hold it (by dint of having specified dims beforehand)\n",
    "\n",
    "arr = np.array([[1,2,3]])\n",
    "print(arr)\n",
    "print()\n",
    "r0 = np.repeat(arr, 3, axis=0)\n",
    "print(r0)\n",
    "print()\n",
    "r1 = np.repeat(arr, 3, axis=1)\n",
    "print(r1)\n"
   ]
  },
  {
   "cell_type": "code",
   "execution_count": 143,
   "id": "6e5d4566-6c8b-42df-a365-4bae9f292ba1",
   "metadata": {
    "tags": []
   },
   "outputs": [
    {
     "name": "stdout",
     "output_type": "stream",
     "text": [
      "[[1 1 1 1 1]\n",
      " [1 0 0 0 1]\n",
      " [1 0 9 0 1]\n",
      " [1 0 0 0 1]\n",
      " [1 1 1 1 1]]\n",
      "\n",
      "[[1 1 1 1 1]\n",
      " [1 0 0 0 1]\n",
      " [1 0 9 0 1]\n",
      " [1 0 0 0 1]\n",
      " [1 1 1 1 1]]\n"
     ]
    }
   ],
   "source": [
    "# making a funky array (per video's request)\n",
    "funk_arr = np.zeros((5,5), dtype='int8')\n",
    "funk_arr[0,:] = 1\n",
    "funk_arr[4,:] = 1\n",
    "funk_arr[:,0] = 1\n",
    "funk_arr[:,4] = 1\n",
    "funk_arr[2,2] = 9\n",
    "\n",
    "funk_arr_2 = np.ones((5,5), dtype='int8')\n",
    "funk_arr_2[1:4,1:4] = 0\n",
    "funk_arr_2[2,2] = 9\n",
    "\n",
    "print(funk_arr)\n",
    "print()\n",
    "print(funk_arr_2)"
   ]
  },
  {
   "cell_type": "code",
   "execution_count": 151,
   "id": "ebdcefbd-71aa-4887-aa98-b4d842b2546c",
   "metadata": {
    "tags": []
   },
   "outputs": [
    {
     "name": "stdout",
     "output_type": "stream",
     "text": [
      "[[1. 1. 1. 1. 1.]\n",
      " [1. 0. 0. 0. 1.]\n",
      " [1. 0. 9. 0. 1.]\n",
      " [1. 0. 0. 0. 1.]\n",
      " [1. 1. 1. 1. 1.]]\n"
     ]
    }
   ],
   "source": [
    "# given solution (notable becuase we're assigning a matrix)\n",
    "ones_arr = np.ones((5,5))\n",
    "zeros_arr = np.zeros((3,3))\n",
    "zeros_arr[1,1] = 9\n",
    "ones_arr[1:-1,1:-1] = zeros_arr  \n",
    "# note that for a more varied matrix being assinged this would be much easier\n",
    "\n",
    "print(ones_arr)"
   ]
  },
  {
   "cell_type": "markdown",
   "id": "60b613da-acae-4186-ad35-6fd22d336c7e",
   "metadata": {},
   "source": [
    "### Be careful when copying arrays!!!"
   ]
  },
  {
   "cell_type": "code",
   "execution_count": 155,
   "id": "41ff73df-01c7-4545-ae2b-23d265ec8d1b",
   "metadata": {
    "tags": []
   },
   "outputs": [
    {
     "name": "stdout",
     "output_type": "stream",
     "text": [
      "a: [1 2 3]\n",
      "b: [1 2 3]\n",
      "a: [111111      2      3]\n",
      "b: [111111      2      3]\n"
     ]
    }
   ],
   "source": [
    "# array copies (via assignment) are pointers it appears\n",
    "a = np.array([1,2,3])\n",
    "print(f\"a: {a}\")\n",
    "\n",
    "b = a\n",
    "print(f\"b: {b}\")\n",
    "\n",
    "a[0] = 111111\n",
    "print(f\"a: {a}\")\n",
    "print(f\"b: {b}\")"
   ]
  },
  {
   "cell_type": "code",
   "execution_count": 157,
   "id": "a2e0c7ae-4332-426f-9b0e-d6986daa5334",
   "metadata": {
    "tags": []
   },
   "outputs": [
    {
     "name": "stdout",
     "output_type": "stream",
     "text": [
      "a: [1 2 3]\n",
      "b: [1 2 3]\n",
      "a: [111111      2      3]\n",
      "b: [1 2 3]\n"
     ]
    }
   ],
   "source": [
    "# we can assign to a `_.copy()` to get aroudn this\n",
    "a = np.array([1,2,3])\n",
    "print(f\"a: {a}\")\n",
    "\n",
    "b = a.copy()\n",
    "print(f\"b: {b}\")\n",
    "\n",
    "a[0] = 111111\n",
    "print(f\"a: {a}\")\n",
    "print(f\"b: {b}\")"
   ]
  },
  {
   "cell_type": "markdown",
   "id": "e78ca12d-029e-4263-92d5-c1b870c2e09b",
   "metadata": {},
   "source": [
    "# Mathematics"
   ]
  },
  {
   "cell_type": "code",
   "execution_count": 173,
   "id": "37740978-484a-4d83-bceb-03292251e794",
   "metadata": {
    "tags": []
   },
   "outputs": [
    {
     "name": "stdout",
     "output_type": "stream",
     "text": [
      "a  : [0 1 2 3]\n",
      "a+1: [1 2 3 4]\n",
      "a/2: [0.  0.5 1.  1.5]\n",
      "a+a: [0 2 4 6]\n",
      "a**2: [0 1 4 9]\n"
     ]
    }
   ],
   "source": [
    "a = np.array([0,1,2,3])\n",
    "print(f\"a  : {a}\")\n",
    "\n",
    "print(f\"a+1: {a+1}\")\n",
    "print(f\"a/2: {a/2}\")\n",
    "print(f\"a+a: {a+a}\")\n",
    "print(f\"a**2: {a**2}\")"
   ]
  },
  {
   "cell_type": "code",
   "execution_count": 174,
   "id": "5226304e-4e53-4d70-b027-894addd6bd81",
   "metadata": {
    "tags": []
   },
   "outputs": [
    {
     "data": {
      "text/plain": [
       "array([0.        , 0.84147098, 0.90929743, 0.14112001])"
      ]
     },
     "execution_count": 174,
     "metadata": {},
     "output_type": "execute_result"
    }
   ],
   "source": [
    "np.sin(a)"
   ]
  },
  {
   "cell_type": "markdown",
   "id": "595364d6-f175-4564-9235-19c08c112596",
   "metadata": {},
   "source": [
    "## Linear Algebra"
   ]
  },
  {
   "cell_type": "code",
   "execution_count": 181,
   "id": "b5952a61-2996-4ecb-b349-f372b41a5277",
   "metadata": {
    "tags": []
   },
   "outputs": [
    {
     "name": "stdout",
     "output_type": "stream",
     "text": [
      "a:\n",
      "[[1. 1. 1.]\n",
      " [1. 1. 1.]]\n",
      "\n",
      "b:\n",
      "[[2 2]\n",
      " [2 2]\n",
      " [2 2]]\n"
     ]
    },
    {
     "data": {
      "text/plain": [
       "array([[6., 6.],\n",
       "       [6., 6.]])"
      ]
     },
     "execution_count": 181,
     "metadata": {},
     "output_type": "execute_result"
    }
   ],
   "source": [
    "a = np.ones((2,3))\n",
    "print(f\"a:\\n{a}\")\n",
    "print()\n",
    "\n",
    "b = np.full((3,2),2)\n",
    "print(f\"b:\\n{b}\")\n",
    "\n",
    "np.matmul(a,b)"
   ]
  },
  {
   "cell_type": "code",
   "execution_count": 182,
   "id": "d6a0113b-73f0-4129-993d-7cec67995925",
   "metadata": {
    "tags": []
   },
   "outputs": [
    {
     "data": {
      "text/plain": [
       "array([[6., 6.],\n",
       "       [6., 6.]])"
      ]
     },
     "execution_count": 182,
     "metadata": {},
     "output_type": "execute_result"
    }
   ],
   "source": [
    "a @ b"
   ]
  },
  {
   "cell_type": "code",
   "execution_count": 183,
   "id": "aa171192-bb1f-4022-bb60-a4bce6692271",
   "metadata": {
    "tags": []
   },
   "outputs": [
    {
     "data": {
      "text/plain": [
       "1.0"
      ]
     },
     "execution_count": 183,
     "metadata": {},
     "output_type": "execute_result"
    }
   ],
   "source": [
    "c = np.identity(3)\n",
    "np.linalg.det(c)"
   ]
  },
  {
   "cell_type": "markdown",
   "id": "5ef325e7-f76a-49ef-a3ff-ce5e63e232d1",
   "metadata": {},
   "source": [
    "# Stats"
   ]
  },
  {
   "cell_type": "code",
   "execution_count": 184,
   "id": "599c8bb0-9660-40b7-865d-04be1b9d4bb3",
   "metadata": {
    "tags": []
   },
   "outputs": [
    {
     "data": {
      "text/plain": [
       "array([[1, 2, 3],\n",
       "       [4, 5, 6]])"
      ]
     },
     "execution_count": 184,
     "metadata": {},
     "output_type": "execute_result"
    }
   ],
   "source": [
    "stats = np.array([[1,2,3],[4,5,6]])\n",
    "stats"
   ]
  },
  {
   "cell_type": "code",
   "execution_count": 185,
   "id": "d9e9503f-d593-4c97-8cb3-6a1a871a560a",
   "metadata": {
    "tags": []
   },
   "outputs": [
    {
     "data": {
      "text/plain": [
       "1"
      ]
     },
     "execution_count": 185,
     "metadata": {},
     "output_type": "execute_result"
    }
   ],
   "source": [
    "np.min(stats)"
   ]
  },
  {
   "cell_type": "code",
   "execution_count": 187,
   "id": "44964735-a2a7-4db7-a48e-2cb1cd21fd87",
   "metadata": {
    "tags": []
   },
   "outputs": [
    {
     "data": {
      "text/plain": [
       "5"
      ]
     },
     "execution_count": 187,
     "metadata": {},
     "output_type": "execute_result"
    }
   ],
   "source": [
    "np.max(stats[:,1])"
   ]
  },
  {
   "cell_type": "code",
   "execution_count": 189,
   "id": "9424f6f6-b66c-4362-90e9-3ea66f884a66",
   "metadata": {
    "tags": []
   },
   "outputs": [
    {
     "data": {
      "text/plain": [
       "array([4, 5, 6])"
      ]
     },
     "execution_count": 189,
     "metadata": {},
     "output_type": "execute_result"
    }
   ],
   "source": [
    "np.max(stats, axis=1)"
   ]
  },
  {
   "cell_type": "code",
   "execution_count": 197,
   "id": "303e45c7-6112-4fa6-b56a-025171379034",
   "metadata": {
    "tags": []
   },
   "outputs": [
    {
     "name": "stdout",
     "output_type": "stream",
     "text": [
      "[[1 2 3]\n",
      " [3 2 1]]\n"
     ]
    },
    {
     "data": {
      "text/plain": [
       "array([3, 2, 3])"
      ]
     },
     "execution_count": 197,
     "metadata": {},
     "output_type": "execute_result"
    }
   ],
   "source": [
    "# interestingly gives max for each tensor connected to that axis element\n",
    "stats_2 = np.array([[1,2,3],[3,2,1]])\n",
    "print(stats_2)\n",
    "np.max(stats_2, axis=0)"
   ]
  },
  {
   "cell_type": "code",
   "execution_count": 198,
   "id": "9c1d3f0e-6f77-45c1-9d54-77b488013a02",
   "metadata": {
    "tags": []
   },
   "outputs": [
    {
     "data": {
      "text/plain": [
       "12"
      ]
     },
     "execution_count": 198,
     "metadata": {},
     "output_type": "execute_result"
    }
   ],
   "source": [
    "np.sum(stats_2)"
   ]
  },
  {
   "cell_type": "markdown",
   "id": "91c1fb28-8d1d-47e5-9bd9-1094b54b9c2d",
   "metadata": {},
   "source": [
    "# Reorganizing Arrays"
   ]
  },
  {
   "cell_type": "code",
   "execution_count": 213,
   "id": "477c44d1-c359-44de-bb46-921b417e2396",
   "metadata": {
    "tags": []
   },
   "outputs": [
    {
     "name": "stdout",
     "output_type": "stream",
     "text": [
      "before:\n",
      "[[ 1  2  3  4  5  6  7  8]\n",
      " [ 9 10 11 12 13 14 15 16]]\n",
      "before.shape: (2, 8)\n",
      "before.size: 16\n"
     ]
    }
   ],
   "source": [
    "before = np.array([[1,2,3,4,5,6,7,8],[9,10,11,12,13,14,15,16]])\n",
    "print(f\"before:\\n{before}\")\n",
    "print(f\"before.shape: {before.shape}\")\n",
    "print(f\"before.size: {before.size}\")"
   ]
  },
  {
   "cell_type": "code",
   "execution_count": 214,
   "id": "48ecc7d2-85a3-45ca-a3c8-b578ac7d5fdb",
   "metadata": {
    "tags": []
   },
   "outputs": [
    {
     "name": "stdout",
     "output_type": "stream",
     "text": [
      "after:\n",
      "[[ 1  2  3  4]\n",
      " [ 5  6  7  8]\n",
      " [ 9 10 11 12]\n",
      " [13 14 15 16]]\n",
      "after.shape: (4, 4)\n",
      "after.size: 16\n"
     ]
    }
   ],
   "source": [
    "after = before.reshape((4,4))\n",
    "print(f\"after:\\n{after}\")\n",
    "print(f\"after.shape: {after.shape}\")\n",
    "print(f\"after.size: {after.size}\")"
   ]
  },
  {
   "cell_type": "code",
   "execution_count": 218,
   "id": "70ef6b63-b91b-4650-9abc-153f4edba625",
   "metadata": {
    "tags": []
   },
   "outputs": [
    {
     "name": "stdout",
     "output_type": "stream",
     "text": [
      "[1 2 3 4 5]\n",
      "[ 6  7  8  9 10]\n",
      "\n"
     ]
    },
    {
     "data": {
      "text/plain": [
       "array([[ 1,  2,  3,  4,  5],\n",
       "       [ 6,  7,  8,  9, 10],\n",
       "       [ 6,  7,  8,  9, 10],\n",
       "       [ 1,  2,  3,  4,  5]])"
      ]
     },
     "execution_count": 218,
     "metadata": {},
     "output_type": "execute_result"
    }
   ],
   "source": [
    "# Vertically stacking vectors\n",
    "r1 = np.array([1,2,3,4,5])\n",
    "r2 = r1+5\n",
    "print(r1)\n",
    "print(r2)\n",
    "print()\n",
    "\n",
    "np.vstack([r1,r2,r2,r1])\n"
   ]
  },
  {
   "cell_type": "code",
   "execution_count": 219,
   "id": "c860f850-c5a9-4afa-ba04-9ead55f77ac1",
   "metadata": {
    "tags": []
   },
   "outputs": [
    {
     "data": {
      "text/plain": [
       "array([ 1,  2,  3,  4,  5,  6,  7,  8,  9, 10])"
      ]
     },
     "execution_count": 219,
     "metadata": {},
     "output_type": "execute_result"
    }
   ],
   "source": [
    "np.hstack([r1,r2])"
   ]
  },
  {
   "cell_type": "markdown",
   "id": "136abdfc-8960-4cd7-82d0-3dc184b2419e",
   "metadata": {},
   "source": [
    "# Miscellaneous"
   ]
  },
  {
   "cell_type": "markdown",
   "id": "5479e1fd-eff3-42d8-bbaa-9e154cfb652e",
   "metadata": {},
   "source": [
    "### Load Data from File"
   ]
  },
  {
   "cell_type": "code",
   "execution_count": 225,
   "id": "a76af462-0102-40db-acbd-c175e8e4803f",
   "metadata": {
    "tags": []
   },
   "outputs": [
    {
     "data": {
      "text/plain": [
       "array([[1.0000e+00, 1.3000e+01, 2.1000e+01, 1.1000e+01, 1.9600e+02],\n",
       "       [2.0000e+00, 4.0000e+00, 5.3000e+01, 4.2000e+01, 4.2330e+03],\n",
       "       [3.2432e+04, 2.3100e+02, 1.0000e+00, 2.3000e+01, 4.3200e+02]])"
      ]
     },
     "execution_count": 225,
     "metadata": {},
     "output_type": "execute_result"
    }
   ],
   "source": [
    "# Note: the path seems \n",
    "# to default to the dir of the jupyter file\n",
    "filedata = np.genfromtxt('data_to_load.txt', delimiter=',')\n",
    "filedata"
   ]
  },
  {
   "cell_type": "code",
   "execution_count": 230,
   "id": "9bbae384-54b3-4aa9-bf46-b79253ac886a",
   "metadata": {
    "tags": []
   },
   "outputs": [
    {
     "name": "stdout",
     "output_type": "stream",
     "text": [
      "[[    1    13    21    11   196]\n",
      " [    2     4    53    42  4233]\n",
      " [32432   231     1    23   432]]\n",
      "\n",
      "[[1.0000e+00 1.3000e+01 2.1000e+01 1.1000e+01 1.9600e+02]\n",
      " [2.0000e+00 4.0000e+00 5.3000e+01 4.2000e+01 4.2330e+03]\n",
      " [3.2432e+04 2.3100e+02 1.0000e+00 2.3000e+01 4.3200e+02]]\n"
     ]
    }
   ],
   "source": [
    "# a type casting option\n",
    "# ¡ Note: this does not auto-replace the orig !\n",
    "print(filedata.astype('int16'))\n",
    "print()\n",
    "print(filedata)"
   ]
  },
  {
   "cell_type": "markdown",
   "id": "335cb0a8-79db-4026-8f2c-ce8e3b600d99",
   "metadata": {},
   "source": [
    "### Boolean Masking and Advanced indexing"
   ]
  },
  {
   "cell_type": "code",
   "execution_count": 231,
   "id": "20930233-ba20-4f71-b1bf-f826207dcea3",
   "metadata": {
    "tags": []
   },
   "outputs": [
    {
     "data": {
      "text/plain": [
       "array([[False, False, False, False,  True],\n",
       "       [False, False,  True, False,  True],\n",
       "       [ True,  True, False, False,  True]])"
      ]
     },
     "execution_count": 231,
     "metadata": {},
     "output_type": "execute_result"
    }
   ],
   "source": [
    "filedata > 50"
   ]
  },
  {
   "cell_type": "code",
   "execution_count": 233,
   "id": "3a3d1e71-d61a-42dc-be6f-30a730436c0e",
   "metadata": {
    "tags": []
   },
   "outputs": [
    {
     "data": {
      "text/plain": [
       "array([  196.,    53.,  4233., 32432.,   231.,   432.])"
      ]
     },
     "execution_count": 233,
     "metadata": {},
     "output_type": "execute_result"
    }
   ],
   "source": [
    "# indexing with booleans\n",
    "filedata[filedata > 50]"
   ]
  },
  {
   "cell_type": "code",
   "execution_count": 247,
   "id": "f0d4d0e6-e8b6-4dc3-9147-32ab95a31a4f",
   "metadata": {
    "tags": []
   },
   "outputs": [
    {
     "name": "stdout",
     "output_type": "stream",
     "text": [
      "[1 2 3 4 5 6]\n",
      "\n",
      "[[1 2 3]\n",
      " [4 5 6]]\n",
      "\n"
     ]
    },
    {
     "data": {
      "text/plain": [
       "array([3, 5, 6])"
      ]
     },
     "execution_count": 247,
     "metadata": {},
     "output_type": "execute_result"
    }
   ],
   "source": [
    "# indexing with a list\n",
    "# hmm, doesn't seem to work nicely for non-1D\n",
    "a = np.array([1,2,3,4,5,6])\n",
    "a2 = a.reshape(2,3)\n",
    "print(a)\n",
    "print()\n",
    "print(a2)\n",
    "print()\n",
    "\n",
    "a[[2,4,5]]\n",
    "\n",
    "# will error out\n",
    "# print()\n",
    "#\n",
    "# a2[[2,4,5]]"
   ]
  },
  {
   "cell_type": "code",
   "execution_count": 248,
   "id": "1c42f26e-321a-41d0-b288-30b181923e88",
   "metadata": {
    "tags": []
   },
   "outputs": [
    {
     "data": {
      "text/plain": [
       "True"
      ]
     },
     "execution_count": 248,
     "metadata": {},
     "output_type": "execute_result"
    }
   ],
   "source": [
    "np.any(filedata > 50)"
   ]
  },
  {
   "cell_type": "code",
   "execution_count": 257,
   "id": "37c70218-6d18-4b5f-a402-34ed88d1ae42",
   "metadata": {
    "tags": []
   },
   "outputs": [
    {
     "data": {
      "text/plain": [
       "array([False,  True,  True])"
      ]
     },
     "execution_count": 257,
     "metadata": {},
     "output_type": "execute_result"
    }
   ],
   "source": [
    "# any, with axis specification\n",
    "np.any(filedata > 1000, axis=1)"
   ]
  },
  {
   "cell_type": "code",
   "execution_count": 258,
   "id": "66e8ebf7-f805-4fc9-a574-5fd44b8ff5d6",
   "metadata": {
    "tags": []
   },
   "outputs": [
    {
     "data": {
      "text/plain": [
       "array([False, False, False])"
      ]
     },
     "execution_count": 258,
     "metadata": {},
     "output_type": "execute_result"
    }
   ],
   "source": [
    "# all, with axis specification\n",
    "np.all(filedata > 1000, axis=1)"
   ]
  },
  {
   "cell_type": "code",
   "execution_count": 261,
   "id": "fc91f813-4cd2-43da-81dd-4c267424d797",
   "metadata": {
    "tags": []
   },
   "outputs": [
    {
     "data": {
      "text/plain": [
       "array([ True, False, False])"
      ]
     },
     "execution_count": 261,
     "metadata": {},
     "output_type": "execute_result"
    }
   ],
   "source": [
    "# `~` is \"not\" (which is a bit unfortunate)\n",
    "~np.any(filedata > 1000, axis=1)"
   ]
  },
  {
   "cell_type": "code",
   "execution_count": 272,
   "id": "a3d9e06b-4df3-43bc-9e5d-8ca8e5f84861",
   "metadata": {
    "tags": []
   },
   "outputs": [
    {
     "name": "stdout",
     "output_type": "stream",
     "text": [
      "block:\n",
      "[[ 1  2  3  4  5]\n",
      " [ 6  7  8  9 10]\n",
      " [11 12 13 14 15]\n",
      " [16 17 18 19 20]\n",
      " [21 22 23 24 25]\n",
      " [26 27 28 29 30]]\n",
      "\n",
      "section:\n",
      "[[11 12]\n",
      " [16 17]]\n"
     ]
    }
   ],
   "source": [
    "# assignment question\n",
    "\n",
    "# first make matrix\n",
    "block = np.array(list(range(1,31))).reshape(6,5)\n",
    "print(f\"block:\\n{block}\")\n",
    "print()\n",
    "\n",
    "# get mid section\n",
    "print(f\"section:\\n{block[2:4, 0:2]}\")"
   ]
  },
  {
   "cell_type": "code",
   "execution_count": 273,
   "id": "ec9c57d0-3c34-4060-ae10-c3774359c60a",
   "metadata": {
    "tags": []
   },
   "outputs": [
    {
     "data": {
      "text/plain": [
       "array([ 2,  8, 14, 20])"
      ]
     },
     "execution_count": 273,
     "metadata": {},
     "output_type": "execute_result"
    }
   ],
   "source": [
    "block[ [0,1,2,3],[1,2,3,4] ]"
   ]
  },
  {
   "cell_type": "code",
   "execution_count": 274,
   "id": "89b8dcf2-7341-4fe4-a0cf-ddd66e098a7c",
   "metadata": {
    "tags": []
   },
   "outputs": [
    {
     "data": {
      "text/plain": [
       "array([2])"
      ]
     },
     "execution_count": 274,
     "metadata": {},
     "output_type": "execute_result"
    }
   ],
   "source": [
    "block[ [0],[1] ]"
   ]
  },
  {
   "cell_type": "code",
   "execution_count": 275,
   "id": "54d6597c-d334-4621-a3e3-17e75f74e604",
   "metadata": {
    "tags": []
   },
   "outputs": [
    {
     "data": {
      "text/plain": [
       "array([[ 4,  5],\n",
       "       [24, 25],\n",
       "       [29, 30]])"
      ]
     },
     "execution_count": 275,
     "metadata": {},
     "output_type": "execute_result"
    }
   ],
   "source": [
    "block[ [0,4,5], 3: ]"
   ]
  },
  {
   "cell_type": "markdown",
   "id": "fc178a70-ef41-4e75-a2e0-0532279a324a",
   "metadata": {},
   "source": [
    "# Linear Alg (from elsewhere)"
   ]
  },
  {
   "cell_type": "code",
   "execution_count": 298,
   "id": "f64bb5e6-8b53-43f3-aa0f-cf64f1a69678",
   "metadata": {
    "tags": []
   },
   "outputs": [
    {
     "data": {
      "text/plain": [
       "array([[1, 2, 3]])"
      ]
     },
     "execution_count": 298,
     "metadata": {},
     "output_type": "execute_result"
    }
   ],
   "source": [
    "row_vector = np.array([[1,2,3]])\n",
    "row_vector"
   ]
  },
  {
   "cell_type": "code",
   "execution_count": 285,
   "id": "ae118690-8486-4f8f-b8c5-331729577d9f",
   "metadata": {
    "tags": []
   },
   "outputs": [
    {
     "data": {
      "text/plain": [
       "(1, 3)"
      ]
     },
     "execution_count": 285,
     "metadata": {},
     "output_type": "execute_result"
    }
   ],
   "source": [
    "row_vector.shape"
   ]
  },
  {
   "cell_type": "code",
   "execution_count": 286,
   "id": "cc00eb75-b51d-4fb3-87da-e3dc24f6aa21",
   "metadata": {
    "tags": []
   },
   "outputs": [
    {
     "data": {
      "text/plain": [
       "array([[1],\n",
       "       [2],\n",
       "       [3]])"
      ]
     },
     "execution_count": 286,
     "metadata": {},
     "output_type": "execute_result"
    }
   ],
   "source": [
    "column_vector = row_vector.reshape(-1,1)\n",
    "column_vector"
   ]
  },
  {
   "cell_type": "code",
   "execution_count": 287,
   "id": "666a0e06-7e91-46c5-a407-4f7f87c814b5",
   "metadata": {
    "tags": []
   },
   "outputs": [
    {
     "data": {
      "text/plain": [
       "(3, 1)"
      ]
     },
     "execution_count": 287,
     "metadata": {},
     "output_type": "execute_result"
    }
   ],
   "source": [
    "column_vector.shape"
   ]
  },
  {
   "cell_type": "code",
   "execution_count": 288,
   "id": "e8cf689d-a676-4c0b-b179-754de3555919",
   "metadata": {
    "tags": []
   },
   "outputs": [
    {
     "data": {
      "text/plain": [
       "array([1, 2, 3, 4])"
      ]
     },
     "execution_count": 288,
     "metadata": {},
     "output_type": "execute_result"
    }
   ],
   "source": [
    "an_arr = np.array([1,2,3,4])\n",
    "an_arr"
   ]
  },
  {
   "cell_type": "code",
   "execution_count": 289,
   "id": "82c3c83a-f24f-4655-99b6-be8110c02953",
   "metadata": {
    "tags": []
   },
   "outputs": [
    {
     "data": {
      "text/plain": [
       "array([[1, 2, 3, 4]])"
      ]
     },
     "execution_count": 289,
     "metadata": {},
     "output_type": "execute_result"
    }
   ],
   "source": [
    "an_arr[np.newaxis, :]"
   ]
  },
  {
   "cell_type": "code",
   "execution_count": 290,
   "id": "738d2e1b-7406-4a4d-b83d-7c2dbe886069",
   "metadata": {
    "tags": []
   },
   "outputs": [
    {
     "data": {
      "text/plain": [
       "array([[1],\n",
       "       [2],\n",
       "       [3],\n",
       "       [4]])"
      ]
     },
     "execution_count": 290,
     "metadata": {},
     "output_type": "execute_result"
    }
   ],
   "source": [
    "an_arr[:, np.newaxis]"
   ]
  },
  {
   "cell_type": "code",
   "execution_count": 291,
   "id": "fa1e2757-16fe-43aa-ae6f-0af07640f4dc",
   "metadata": {
    "tags": []
   },
   "outputs": [
    {
     "data": {
      "text/plain": [
       "array([[1],\n",
       "       [2],\n",
       "       [3],\n",
       "       [4]])"
      ]
     },
     "execution_count": 291,
     "metadata": {},
     "output_type": "execute_result"
    }
   ],
   "source": [
    "an_arr[:, None]"
   ]
  },
  {
   "cell_type": "code",
   "execution_count": 293,
   "id": "89c55221-4d20-4650-9487-2b7bf78f353a",
   "metadata": {
    "tags": []
   },
   "outputs": [
    {
     "data": {
      "text/plain": [
       "array([[1, 2, 3],\n",
       "       [4, 5, 6]])"
      ]
     },
     "execution_count": 293,
     "metadata": {},
     "output_type": "execute_result"
    }
   ],
   "source": [
    "matrix = np.array(list(range(1,7))).reshape(2,3)\n",
    "matrix"
   ]
  },
  {
   "cell_type": "code",
   "execution_count": 296,
   "id": "1b08d9f5-deaf-4c3b-97e0-31452ebeb08e",
   "metadata": {
    "tags": []
   },
   "outputs": [
    {
     "data": {
      "text/plain": [
       "array([[14],\n",
       "       [32]])"
      ]
     },
     "execution_count": 296,
     "metadata": {},
     "output_type": "execute_result"
    }
   ],
   "source": [
    "# technically we're multiplying matrices here\n",
    "np.matmul(matrix, column_vector)"
   ]
  },
  {
   "cell_type": "code",
   "execution_count": 315,
   "id": "14d58672-7fe4-4220-9827-860cc9f64251",
   "metadata": {
    "tags": []
   },
   "outputs": [
    {
     "data": {
      "text/plain": [
       "array([14, 32])"
      ]
     },
     "execution_count": 315,
     "metadata": {},
     "output_type": "execute_result"
    }
   ],
   "source": [
    "# note that this is not the same as [[1,2,3]]\n",
    "np.matmul(matrix, np.array([1,2,3]))"
   ]
  },
  {
   "cell_type": "code",
   "execution_count": 316,
   "id": "237f2734-57ae-4ee9-923f-96965b98e683",
   "metadata": {
    "tags": []
   },
   "outputs": [
    {
     "data": {
      "text/plain": [
       "array([[14],\n",
       "       [32]])"
      ]
     },
     "execution_count": 316,
     "metadata": {},
     "output_type": "execute_result"
    }
   ],
   "source": [
    "matrix @ column_vector"
   ]
  },
  {
   "cell_type": "code",
   "execution_count": 309,
   "id": "60e2fb45-d5b2-4385-a025-670ec94b6268",
   "metadata": {
    "tags": []
   },
   "outputs": [
    {
     "data": {
      "text/plain": [
       "14"
      ]
     },
     "execution_count": 309,
     "metadata": {},
     "output_type": "execute_result"
    }
   ],
   "source": [
    "np.array([1,2,3]) @ np.array([1,2,3])"
   ]
  },
  {
   "cell_type": "code",
   "execution_count": 318,
   "id": "01b03855-3759-45f4-88ce-b99adb3982f4",
   "metadata": {
    "tags": []
   },
   "outputs": [
    {
     "name": "stdout",
     "output_type": "stream",
     "text": [
      "493 ns ± 4.89 ns per loop (mean ± std. dev. of 7 runs, 1,000,000 loops each)\n"
     ]
    }
   ],
   "source": [
    "%timeit np.matmul(matrix, column_vector)"
   ]
  },
  {
   "cell_type": "code",
   "execution_count": 319,
   "id": "c2e48c29-63a5-4233-a3eb-cabb11292014",
   "metadata": {
    "tags": []
   },
   "outputs": [
    {
     "name": "stdout",
     "output_type": "stream",
     "text": [
      "487 ns ± 5.42 ns per loop (mean ± std. dev. of 7 runs, 1,000,000 loops each)\n"
     ]
    }
   ],
   "source": [
    "%timeit matrix @ column_vector"
   ]
  },
  {
   "cell_type": "code",
   "execution_count": 320,
   "id": "814dcd18-c9d7-4441-88f7-aaa0256820b3",
   "metadata": {
    "tags": []
   },
   "outputs": [
    {
     "name": "stdout",
     "output_type": "stream",
     "text": [
      "480 ns ± 1.62 ns per loop (mean ± std. dev. of 7 runs, 1,000,000 loops each)\n"
     ]
    }
   ],
   "source": [
    "%timeit np.dot(matrix, column_vector)"
   ]
  },
  {
   "cell_type": "code",
   "execution_count": 322,
   "id": "e6fdff15-1868-498c-b6c0-a7d2ab106d8e",
   "metadata": {
    "tags": []
   },
   "outputs": [
    {
     "data": {
      "text/plain": [
       "array([[1, 4],\n",
       "       [2, 5],\n",
       "       [3, 6]])"
      ]
     },
     "execution_count": 322,
     "metadata": {},
     "output_type": "execute_result"
    }
   ],
   "source": [
    "matrix.transpose()"
   ]
  },
  {
   "cell_type": "code",
   "execution_count": 325,
   "id": "92da94b5-719f-4e55-a500-2e099da22f6a",
   "metadata": {
    "tags": []
   },
   "outputs": [
    {
     "data": {
      "text/plain": [
       "array([[1, 4],\n",
       "       [2, 5],\n",
       "       [3, 6]])"
      ]
     },
     "execution_count": 325,
     "metadata": {},
     "output_type": "execute_result"
    }
   ],
   "source": [
    "matrix.T"
   ]
  },
  {
   "cell_type": "code",
   "execution_count": 326,
   "id": "fed18933-71d1-4152-988e-a617129eb952",
   "metadata": {
    "tags": []
   },
   "outputs": [
    {
     "data": {
      "text/plain": [
       "array([[14, 32],\n",
       "       [32, 77]])"
      ]
     },
     "execution_count": 326,
     "metadata": {},
     "output_type": "execute_result"
    }
   ],
   "source": [
    "matrix @ matrix.T"
   ]
  },
  {
   "cell_type": "code",
   "execution_count": 327,
   "id": "d1cd3414-7174-4ebf-993c-8f6ceef9cea3",
   "metadata": {
    "tags": []
   },
   "outputs": [
    {
     "data": {
      "text/plain": [
       "array([[17, 22, 27],\n",
       "       [22, 29, 36],\n",
       "       [27, 36, 45]])"
      ]
     },
     "execution_count": 327,
     "metadata": {},
     "output_type": "execute_result"
    }
   ],
   "source": [
    "matrix.T @ matrix"
   ]
  },
  {
   "cell_type": "markdown",
   "id": "ade84b16-0ff8-424a-85fc-b122d87be479",
   "metadata": {},
   "source": [
    "## Note: be sure to check out SciPy"
   ]
  }
 ],
 "metadata": {
  "kernelspec": {
   "display_name": "Python 3 (ipykernel)",
   "language": "python",
   "name": "python3"
  },
  "language_info": {
   "codemirror_mode": {
    "name": "ipython",
    "version": 3
   },
   "file_extension": ".py",
   "mimetype": "text/x-python",
   "name": "python",
   "nbconvert_exporter": "python",
   "pygments_lexer": "ipython3",
   "version": "3.11.3"
  }
 },
 "nbformat": 4,
 "nbformat_minor": 5
}
