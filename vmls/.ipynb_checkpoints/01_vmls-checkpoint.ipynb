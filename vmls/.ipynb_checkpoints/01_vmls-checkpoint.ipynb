{
 "cells": [
  {
   "cell_type": "code",
   "execution_count": 1,
   "id": "3a775955-63b6-4278-aedd-318decc4d81f",
   "metadata": {},
   "outputs": [],
   "source": [
    "import numpy as np"
   ]
  },
  {
   "cell_type": "markdown",
   "id": "db2aeb1b-9f68-4aab-b5fb-963339be4222",
   "metadata": {},
   "source": [
    "# General Syntax"
   ]
  },
  {
   "cell_type": "code",
   "execution_count": 2,
   "id": "863a36bd-3d2f-485c-bb31-c21820f16dfd",
   "metadata": {
    "tags": []
   },
   "outputs": [
    {
     "name": "stdout",
     "output_type": "stream",
     "text": [
      "[-1.1 20.   3.6 -7.2]\n",
      "[-1.1  0.   3.6 -7.2]\n"
     ]
    },
    {
     "data": {
      "text/plain": [
       "array([ True, False,  True,  True])"
      ]
     },
     "execution_count": 2,
     "metadata": {},
     "output_type": "execute_result"
    }
   ],
   "source": [
    "x = np.array([-1.1, 0.0, 3.6, -7.2])\n",
    "y = x.copy()\n",
    "x[1] = 20.0\n",
    "print(x)\n",
    "print(y)\n",
    "x==y"
   ]
  },
  {
   "cell_type": "code",
   "execution_count": 3,
   "id": "fa449589-6849-4bce-984e-8bb3cc8cdb50",
   "metadata": {
    "tags": []
   },
   "outputs": [
    {
     "data": {
      "text/plain": [
       "False"
      ]
     },
     "execution_count": 3,
     "metadata": {},
     "output_type": "execute_result"
    }
   ],
   "source": [
    "2.4 == [2.4]"
   ]
  },
  {
   "cell_type": "code",
   "execution_count": 4,
   "id": "532997ff-c6fb-4339-b30a-e66a8a578117",
   "metadata": {
    "tags": []
   },
   "outputs": [
    {
     "data": {
      "text/plain": [
       "True"
      ]
     },
     "execution_count": 4,
     "metadata": {},
     "output_type": "execute_result"
    }
   ],
   "source": [
    "2.4 == [2.4][0]"
   ]
  },
  {
   "cell_type": "code",
   "execution_count": 5,
   "id": "f992cfbd-7e60-4a8e-86f6-060f70389677",
   "metadata": {
    "tags": []
   },
   "outputs": [
    {
     "data": {
      "text/plain": [
       "array([ True])"
      ]
     },
     "execution_count": 5,
     "metadata": {},
     "output_type": "execute_result"
    }
   ],
   "source": [
    "2.4 == np.array([2.4])"
   ]
  },
  {
   "cell_type": "code",
   "execution_count": 6,
   "id": "86952e55-b7fd-4aa6-93d8-22c2bd9e4dc5",
   "metadata": {
    "tags": []
   },
   "outputs": [
    {
     "name": "stdout",
     "output_type": "stream",
     "text": [
      "[ 1 -1 -2  1  1  0]\n",
      "\n"
     ]
    },
    {
     "data": {
      "text/plain": [
       "array([ 1, -1, -2,  1,  1,  0])"
      ]
     },
     "execution_count": 6,
     "metadata": {},
     "output_type": "execute_result"
    }
   ],
   "source": [
    "x = np.array([1,-1,-2])\n",
    "y = np.array([1,1,0])\n",
    "z = np.concatenate((x,y))\n",
    "print(z)\n",
    "print()\n",
    "\n",
    "np.hstack((x,y))"
   ]
  },
  {
   "cell_type": "code",
   "execution_count": 7,
   "id": "c4b85745-beb5-454b-8607-fbce1fb9615a",
   "metadata": {
    "tags": []
   },
   "outputs": [
    {
     "data": {
      "text/plain": [
       "array([[ 1, -1, -2],\n",
       "       [ 1, -1, -2],\n",
       "       [ 1, -1, -2],\n",
       "       [ 1,  1,  0]])"
      ]
     },
     "execution_count": 7,
     "metadata": {},
     "output_type": "execute_result"
    }
   ],
   "source": [
    "np.vstack((x,x,x,y))"
   ]
  },
  {
   "cell_type": "code",
   "execution_count": 8,
   "id": "30ba7d1c-c586-433a-b621-a60a37b4d78e",
   "metadata": {
    "tags": []
   },
   "outputs": [
    {
     "name": "stdout",
     "output_type": "stream",
     "text": [
      "[1 1 0]\n",
      "[1 1]\n",
      "[1]\n",
      "[]\n"
     ]
    }
   ],
   "source": [
    "print( y[:] )\n",
    "print( y[:-1] )\n",
    "print( y[:-2] )\n",
    "print( y[:0] )"
   ]
  },
  {
   "cell_type": "markdown",
   "id": "174852c6-2a72-4c5b-ad14-a60b21681805",
   "metadata": {},
   "source": [
    "# Some Other Stuff"
   ]
  },
  {
   "cell_type": "code",
   "execution_count": 9,
   "id": "91460682-80f1-4968-9ad1-671afbc65d41",
   "metadata": {
    "tags": []
   },
   "outputs": [
    {
     "name": "stdout",
     "output_type": "stream",
     "text": [
      "[ 7 -5 -1 -1  8 -2]\n"
     ]
    }
   ],
   "source": [
    "# taking the difference of last n-1 minus the first n-1\n",
    "x = np.array([1,8,3,2,1,9,7])\n",
    "diff_1 = x[1:]-x[:-1]\n",
    "print( diff_1 )"
   ]
  },
  {
   "cell_type": "code",
   "execution_count": 10,
   "id": "67401fcc-8a95-4e38-b6d7-f602fb77cd5d",
   "metadata": {
    "tags": []
   },
   "outputs": [
    {
     "data": {
      "text/plain": [
       "array([[0.21890395, 0.71072285, 0.06356755],\n",
       "       [0.92875772, 0.23793286, 0.93422944]])"
      ]
     },
     "execution_count": 10,
     "metadata": {},
     "output_type": "execute_result"
    }
   ],
   "source": [
    "np.random.random([2,3])"
   ]
  },
  {
   "cell_type": "code",
   "execution_count": 11,
   "id": "ff242f6e-680a-41ec-a448-f58cf7656872",
   "metadata": {
    "tags": []
   },
   "outputs": [
    {
     "data": {
      "text/plain": [
       "array([[0.12429262, 0.85994735, 0.19623597],\n",
       "       [0.03501196, 0.2626727 , 0.22183322]])"
      ]
     },
     "execution_count": 11,
     "metadata": {},
     "output_type": "execute_result"
    }
   ],
   "source": [
    "np.random.rand(2,3)\n",
    "# NOTE: the syntax difference"
   ]
  },
  {
   "cell_type": "code",
   "execution_count": 12,
   "id": "1319c936-f39d-4f3d-ad20-c152caf8ec26",
   "metadata": {
    "tags": []
   },
   "outputs": [
    {
     "data": {
      "text/plain": [
       "array([[2, 2, 2],\n",
       "       [2, 2, 2]])"
      ]
     },
     "execution_count": 12,
     "metadata": {},
     "output_type": "execute_result"
    }
   ],
   "source": [
    "np.random.randint(2,3, size=(2,3))"
   ]
  },
  {
   "cell_type": "markdown",
   "id": "6bd1a2ed-3bc1-4006-aa2c-b20356078e5d",
   "metadata": {},
   "source": [
    "# Plotting"
   ]
  },
  {
   "cell_type": "code",
   "execution_count": 13,
   "id": "5d4f7509-1b13-45f8-9c95-7f2cdf7c1fb0",
   "metadata": {
    "tags": []
   },
   "outputs": [],
   "source": [
    "import matplotlib.pyplot as plt"
   ]
  },
  {
   "cell_type": "code",
   "execution_count": 14,
   "id": "5adb9be3-1bb7-40d0-a995-3bc97756ab23",
   "metadata": {
    "tags": []
   },
   "outputs": [],
   "source": [
    "# Not sure if these are still needed\n",
    "# plt.ion()\n",
    "# ...\n",
    "# plt.show()"
   ]
  },
  {
   "cell_type": "code",
   "execution_count": 15,
   "id": "89e3f841-501d-4e8d-b7c9-490a4f59e97e",
   "metadata": {
    "tags": []
   },
   "outputs": [],
   "source": [
    "temps = [ 71, 71, 68, 69, 68, 69, 68, 74, 77, 82, 85, 86, 88, 86,85, 86, 84, 79, 77, 75, 73, 71, 70, 70, 69, 69, 69, 69, 67,68, 68, 73, 76, 77, 82, 84, 84, 81, 80, 78, 79, 78, 73, 72,70, 70, 68, 67 ]"
   ]
  },
  {
   "cell_type": "code",
   "execution_count": 16,
   "id": "7ee9ea00-627d-49c4-bca3-fb94d8a3aca0",
   "metadata": {
    "tags": []
   },
   "outputs": [
    {
     "data": {
      "image/png": "[encoded data removed]",
      "text/plain": [
       "<Figure size 640x480 with 1 Axes>"
      ]
     },
     "metadata": {},
     "output_type": "display_data"
    }
   ],
   "source": [
    "plt.plot(temps, '-bo') # dashed, blue, circles\n",
    "plt.savefig('temperature.pdf', format = 'pdf')"
   ]
  },
  {
   "cell_type": "markdown",
   "id": "5da6fd17-1d24-47c8-88ae-7e4bb1de4f26",
   "metadata": {},
   "source": [
    "# Inner Product"
   ]
  },
  {
   "cell_type": "code",
   "execution_count": 19,
   "id": "8b140b3d-1e85-42b2-af66-59e8df3f5e39",
   "metadata": {
    "tags": []
   },
   "outputs": [
    {
     "name": "stdout",
     "output_type": "stream",
     "text": [
      "-7\n",
      "-7\n"
     ]
    }
   ],
   "source": [
    "x = np.array([-1,2,2])\n",
    "y = np.array([1,0,-3])\n",
    "print( np.inner(x,y) )\n",
    "print( x @ y )"
   ]
  },
  {
   "cell_type": "code",
   "execution_count": 31,
   "id": "7f3f0b50-d98c-48e8-8525-46c16843d4da",
   "metadata": {
    "tags": []
   },
   "outputs": [
    {
     "name": "stdout",
     "output_type": "stream",
     "text": [
      "NPV:  1.236162401468524\n"
     ]
    }
   ],
   "source": [
    "# Net Present Values\n",
    "cash_flow_vec = np.array([.1, .1, .1, 1.1])\n",
    "n = cash_flow_vec.size\n",
    "r = 0.05 # 5% per-period interest rate\n",
    "d = np.array([(1+r)**(-i) for i in range(n)])\n",
    "NPV = cash_flow_vec @ d\n",
    "print(\"NPV: \", NPV)"
   ]
  },
  {
   "cell_type": "code",
   "execution_count": 32,
   "id": "680cca41-56ce-475e-b625-dcb722a2447d",
   "metadata": {
    "tags": []
   },
   "outputs": [
    {
     "data": {
      "text/plain": [
       "array([0.1       , 0.0952381 , 0.09070295, 0.95022136])"
      ]
     },
     "execution_count": 32,
     "metadata": {},
     "output_type": "execute_result"
    }
   ],
   "source": [
    "cash_flow_vec * d"
   ]
  },
  {
   "cell_type": "markdown",
   "id": "5648302e-7871-40e5-be9e-0efeb6131d98",
   "metadata": {},
   "source": [
    "# Floating Point stuff"
   ]
  },
  {
   "cell_type": "code",
   "execution_count": 36,
   "id": "d4c5c811-6c70-4df0-ae56-a45bdaacbe48",
   "metadata": {
    "tags": []
   },
   "outputs": [
    {
     "name": "stdout",
     "output_type": "stream",
     "text": [
      "0.0\n"
     ]
    }
   ],
   "source": [
    "a = np.random.random()\n",
    "b = np.random.random()\n",
    "lhs = (a+b) * (a-b)\n",
    "rhs = a**2 - b**2\n",
    "print(lhs - rhs)"
   ]
  },
  {
   "cell_type": "code",
   "execution_count": 37,
   "id": "0295eb14-13ea-4c36-ba00-f8249aa1b6be",
   "metadata": {
    "tags": []
   },
   "outputs": [],
   "source": [
    "# ^ Huh.  Not sure why those are the same here..."
   ]
  },
  {
   "cell_type": "markdown",
   "id": "d5462738-43d3-48f9-8873-bcf0b0541976",
   "metadata": {},
   "source": [
    "# Timing"
   ]
  },
  {
   "cell_type": "code",
   "execution_count": 40,
   "id": "cadebb24-ec4b-4fae-8ed0-330d10a87458",
   "metadata": {
    "tags": []
   },
   "outputs": [
    {
     "name": "stdout",
     "output_type": "stream",
     "text": [
      "0.00022292137145996094\n"
     ]
    }
   ],
   "source": [
    "import time\n",
    "a = np.random.random(10**5)\n",
    "b = np.random.random(10**5) \n",
    "start = time.time()\n",
    "a@b\n",
    "end = time.time()\n",
    "print(end - start)"
   ]
  },
  {
   "cell_type": "code",
   "execution_count": 41,
   "id": "4456ea35-2018-4ed9-837a-aeffe2f72181",
   "metadata": {
    "tags": []
   },
   "outputs": [
    {
     "name": "stdout",
     "output_type": "stream",
     "text": [
      "41.6 µs ± 357 ns per loop (mean ± std. dev. of 7 runs, 10,000 loops each)\n"
     ]
    }
   ],
   "source": [
    "%timeit a@b"
   ]
  },
  {
   "cell_type": "markdown",
   "id": "63c1aff4-e233-43d8-be3f-dc724829aabe",
   "metadata": {},
   "source": [
    "# Sparse Vectors"
   ]
  },
  {
   "cell_type": "code",
   "execution_count": 42,
   "id": "4964d442-5233-4d6d-8047-62ab7e78509b",
   "metadata": {
    "collapsed": true,
    "jupyter": {
     "outputs_hidden": true
    },
    "tags": []
   },
   "outputs": [
    {
     "ename": "ModuleNotFoundError",
     "evalue": "No module named 'scipy'",
     "output_type": "error",
     "traceback": [
      "\u001b[0;31m---------------------------------------------------------------------------\u001b[0m",
      "\u001b[0;31mModuleNotFoundError\u001b[0m                       Traceback (most recent call last)",
      "Cell \u001b[0;32mIn[42], line 1\u001b[0m\n\u001b[0;32m----> 1\u001b[0m \u001b[38;5;28;01mfrom\u001b[39;00m \u001b[38;5;21;01mscipy\u001b[39;00m \u001b[38;5;28;01mimport\u001b[39;00m sparse\n\u001b[1;32m      2\u001b[0m I \u001b[38;5;241m=\u001b[39m np\u001b[38;5;241m.\u001b[39marray([\u001b[38;5;241m4\u001b[39m,\u001b[38;5;241m7\u001b[39m,\u001b[38;5;241m8\u001b[39m,\u001b[38;5;241m9\u001b[39m])\n\u001b[1;32m      3\u001b[0m J \u001b[38;5;241m=\u001b[39m np\u001b[38;5;241m.\u001b[39marray([\u001b[38;5;241m0\u001b[39m,\u001b[38;5;241m0\u001b[39m,\u001b[38;5;241m0\u001b[39m,\u001b[38;5;241m0\u001b[39m])\n",
      "\u001b[0;31mModuleNotFoundError\u001b[0m: No module named 'scipy'"
     ]
    }
   ],
   "source": [
    "from scipy import sparse\n",
    "I = np.array([4,7,8,9])\n",
    "J = np.array([0,0,0,0])\n",
    "V = np.array([100,200,300,400])\n",
    "A = sparse.coo_matrix((V,(I,J)),shape = (10000,1))\n",
    "A"
   ]
  },
  {
   "cell_type": "code",
   "execution_count": null,
   "id": "76d4f21a-3b03-4287-a6cc-ef60aa2f8365",
   "metadata": {},
   "outputs": [],
   "source": []
  }
 ],
 "metadata": {
  "kernelspec": {
   "display_name": "Python 3 (ipykernel)",
   "language": "python",
   "name": "python3"
  },
  "language_info": {
   "codemirror_mode": {
    "name": "ipython",
    "version": 3
   },
   "file_extension": ".py",
   "mimetype": "text/x-python",
   "name": "python",
   "nbconvert_exporter": "python",
   "pygments_lexer": "ipython3",
   "version": "3.11.3"
  }
 },
 "nbformat": 4,
 "nbformat_minor": 5
}
