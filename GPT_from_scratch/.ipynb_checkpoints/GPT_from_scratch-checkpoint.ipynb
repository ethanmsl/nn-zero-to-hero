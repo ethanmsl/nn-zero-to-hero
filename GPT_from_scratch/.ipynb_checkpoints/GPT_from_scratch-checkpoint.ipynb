{
 "cells": [
  {
   "cell_type": "markdown",
   "id": "ec907960-5159-4e97-b97a-4fafb19d1f74",
   "metadata": {},
   "source": [
    "# Let's build GPT: from scratch, in code, spelled out.\n",
    "along with the [youtube video](https://www.youtube.com/watch?v=kCc8FmEb1nY&list=PPSV) from Andrej Karpathy"
   ]
  },
  {
   "cell_type": "code",
   "execution_count": null,
   "id": "7defc14e-587d-49f6-9cb8-216dffb461c0",
   "metadata": {},
   "outputs": [],
   "source": []
  }
 ],
 "metadata": {
  "kernelspec": {
   "display_name": "Python 3 (ipykernel)",
   "language": "python",
   "name": "python3"
  },
  "language_info": {
   "codemirror_mode": {
    "name": "ipython",
    "version": 3
   },
   "file_extension": ".py",
   "mimetype": "text/x-python",
   "name": "python",
   "nbconvert_exporter": "python",
   "pygments_lexer": "ipython3",
   "version": "3.11.3"
  }
 },
 "nbformat": 4,
 "nbformat_minor": 5
}
